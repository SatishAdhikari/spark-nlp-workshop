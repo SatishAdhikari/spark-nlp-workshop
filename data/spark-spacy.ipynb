{
 "cells": [
  {
   "cell_type": "code",
   "execution_count": 27,
   "metadata": {},
   "outputs": [],
   "source": [
    "from pyspark import SparkContext\n",
    "from pyspark.sql import SparkSession\n",
    "from pyspark.sql import functions as fun, types\n",
    "\n",
    "import spacy"
   ]
  },
  {
   "cell_type": "markdown",
   "metadata": {},
   "source": [
    "## Spark session init"
   ]
  },
  {
   "cell_type": "code",
   "execution_count": 20,
   "metadata": {},
   "outputs": [],
   "source": [
    "spark = SparkSession(SparkContext.getOrCreate()) \\\n",
    "    .builder \\\n",
    "    .appName('NLP') \\\n",
    "    .getOrCreate()"
   ]
  },
  {
   "cell_type": "markdown",
   "metadata": {},
   "source": [
    "## Load dataset"
   ]
  },
  {
   "cell_type": "markdown",
   "metadata": {},
   "source": [
    "News Category Dataset:\n",
    "https://www.kaggle.com/rmisra/news-category-dataset\n",
    "\n",
    "Each json record contains following attributes:\n",
    "\n",
    "* category: Category article belongs to\n",
    "\n",
    "* headline: Headline of the article\n",
    "\n",
    "* authors: Person authored the article\n",
    "\n",
    "* link: Link to the post\n",
    "\n",
    "* short_description: Short description of the article\n",
    "\n",
    "* date: Date the article was published"
   ]
  },
  {
   "cell_type": "code",
   "execution_count": 39,
   "metadata": {},
   "outputs": [],
   "source": [
    "news_df = spark.read.json(\"News_Category_Dataset_v2.json\")"
   ]
  },
  {
   "cell_type": "code",
   "execution_count": 36,
   "metadata": {},
   "outputs": [
    {
     "name": "stdout",
     "output_type": "stream",
     "text": [
      "+--------------------+-------------+----------+--------------------+--------------------+--------------------+\n",
      "|             authors|     category|      date|            headline|                link|   short_description|\n",
      "+--------------------+-------------+----------+--------------------+--------------------+--------------------+\n",
      "|     Melissa Jeltsen|        CRIME|2018-05-26|There Were 2 Mass...|https://www.huffi...|She left her husb...|\n",
      "|       Andy McDonald|ENTERTAINMENT|2018-05-26|Will Smith Joins ...|https://www.huffi...|Of course it has ...|\n",
      "|          Ron Dicker|ENTERTAINMENT|2018-05-26|Hugh Grant Marrie...|https://www.huffi...|The actor and his...|\n",
      "|          Ron Dicker|ENTERTAINMENT|2018-05-26|Jim Carrey Blasts...|https://www.huffi...|The actor gives D...|\n",
      "|          Ron Dicker|ENTERTAINMENT|2018-05-26|Julianna Margulie...|https://www.huffi...|The \"Dietland\" ac...|\n",
      "|          Ron Dicker|ENTERTAINMENT|2018-05-26|Morgan Freeman 'D...|https://www.huffi...|\"It is not right ...|\n",
      "|          Ron Dicker|ENTERTAINMENT|2018-05-26|Donald Trump Is L...|https://www.huffi...|It's catchy, all ...|\n",
      "|     Todd Van Luling|ENTERTAINMENT|2018-05-26|What To Watch On ...|https://www.huffi...|There's a great m...|\n",
      "|       Andy McDonald|ENTERTAINMENT|2018-05-26|Mike Myers Reveal...|https://www.huffi...|Myer's kids may b...|\n",
      "|     Todd Van Luling|ENTERTAINMENT|2018-05-26|What To Watch On ...|https://www.huffi...|You're getting a ...|\n",
      "|   Sebastian Murdock|ENTERTAINMENT|2018-05-26|Justin Timberlake...|https://www.huffi...|The pop star also...|\n",
      "|                    |   WORLD NEWS|2018-05-26|South Korean Pres...|https://www.huffi...|The two met to pa...|\n",
      "|       Karen Pinchin|       IMPACT|2018-05-26|With Its Way Of L...|https://www.huffi...|The revolution is...|\n",
      "|Elise Foley and R...|     POLITICS|2018-05-26|Trump's Crackdown...|https://www.huffi...|Last month a Heal...|\n",
      "|Michael Isikoff, ...|     POLITICS|2018-05-26|'Trump's Son Shou...|https://www.huffi...|The wiretaps feat...|\n",
      "|      Mary Papenfuss|     POLITICS|2018-05-26|Edward Snowden: T...|https://www.huffi...|But don't count o...|\n",
      "|      Mary Papenfuss|     POLITICS|2018-05-26|Booyah: Obama Pho...|https://www.huffi...|Just a peeping mi...|\n",
      "|       Laura Bassett|     POLITICS|2018-05-26|Ireland Votes To ...|https://www.huffi...|Irish women will ...|\n",
      "|      Chris D'Angelo|     POLITICS|2018-05-26|Ryan Zinke Looks ...|https://www.huffi...|The interior secr...|\n",
      "|      Mary Papenfuss|     POLITICS|2018-05-26|Trump's Scottish ...|https://www.huffi...|And there are fou...|\n",
      "+--------------------+-------------+----------+--------------------+--------------------+--------------------+\n",
      "only showing top 20 rows\n",
      "\n"
     ]
    }
   ],
   "source": [
    "news_df.show()"
   ]
  }
 ],
 "metadata": {
  "kernelspec": {
   "display_name": "Python 3",
   "language": "python",
   "name": "python3"
  },
  "language_info": {
   "codemirror_mode": {
    "name": "ipython",
    "version": 3
   },
   "file_extension": ".py",
   "mimetype": "text/x-python",
   "name": "python",
   "nbconvert_exporter": "python",
   "pygments_lexer": "ipython3",
   "version": "3.7.1"
  }
 },
 "nbformat": 4,
 "nbformat_minor": 2
}
